{
 "cells": [
  {
   "cell_type": "markdown",
   "metadata": {
    "collapsed": true
   },
   "source": [
    "Practice Analyzing csv data from Hacker News\n"
   ]
  },
  {
   "cell_type": "code",
   "execution_count": 2,
   "metadata": {
    "collapsed": true
   },
   "outputs": [],
   "source": [
    "from csv import reader\n",
    "\n",
    "hacker_csv = open('hacker_news.csv')\n",
    "opened_file = reader(hacker_csv)\n",
    "hn = list(opened_file)"
   ]
  },
  {
   "cell_type": "code",
   "execution_count": 3,
   "metadata": {
    "collapsed": false
   },
   "outputs": [],
   "source": [
    "headers = hn[0]\n",
    "hn = hn[1:]\n",
    "# print(hn[:4])"
   ]
  },
  {
   "cell_type": "code",
   "execution_count": 4,
   "metadata": {
    "collapsed": false
   },
   "outputs": [
    {
     "name": "stdout",
     "output_type": "stream",
     "text": [
      "1744\n",
      "1162\n",
      "17194\n"
     ]
    }
   ],
   "source": [
    "# Loop through titles of articles and populate lists \n",
    "# based on type of post\n",
    "asks_posts = []\n",
    "show_posts = []\n",
    "other_posts = []\n",
    "\n",
    "for row in hn:\n",
    "    title = row[1].lower()\n",
    "    if title.startswith('ask hn'):\n",
    "        asks_posts.append(row)\n",
    "    elif title.startswith('show hn'):\n",
    "        show_posts.append(row)\n",
    "    else:\n",
    "        other_posts.append(row)\n",
    "\n",
    "asks_length = len(asks_posts)\n",
    "show_length = len(show_posts)\n",
    "other_length = len(other_posts)\n",
    "print(asks_length)\n",
    "print(show_length)\n",
    "print(other_length)\n",
    "    "
   ]
  },
  {
   "cell_type": "code",
   "execution_count": 5,
   "metadata": {
    "collapsed": false
   },
   "outputs": [
    {
     "name": "stdout",
     "output_type": "stream",
     "text": [
      "Average Number of comments for Ask Posts: 14.04\n",
      "Average Number of comments for Show Posts: 10.32\n"
     ]
    }
   ],
   "source": [
    "# Find whether ask or show posts have more comments\n",
    "\n",
    "def total_comments(lst):\n",
    "    total_num_comments = 0\n",
    "    for row in lst:\n",
    "        num_comments = int(row[4])\n",
    "        total_num_comments += num_comments\n",
    "    return total_num_comments\n",
    "\n",
    "# Ask Posts\n",
    "total_ask_comments = total_comments(asks_posts)\n",
    "avg_ask_comments = total_ask_comments / asks_length\n",
    "print('Average Number of comments for Ask Posts:',\n",
    "      round(avg_ask_comments,2))\n",
    "\n",
    "# Show Posts\n",
    "total_show_comments = total_comments(show_posts)\n",
    "avg_show_comments = total_show_comments / show_length\n",
    "print('Average Number of comments for Show Posts:',\n",
    "      round(avg_show_comments,2))\n",
    "\n",
    "    "
   ]
  },
  {
   "cell_type": "code",
   "execution_count": 8,
   "metadata": {
    "collapsed": false
   },
   "outputs": [
    {
     "name": "stdout",
     "output_type": "stream",
     "text": [
      "{'11': 641, '05': 464, '17': 1146, '03': 421, '12': 687, '04': 337, '07': 267, '22': 479, '06': 397, '18': 1439, '21': 1745, '16': 1814, '00': 447, '09': 251, '15': 4477, '19': 1188, '13': 1253, '08': 492, '20': 1722, '14': 1416, '10': 793, '01': 683, '02': 1381, '23': 543}\n",
      "{'11': 58, '05': 46, '17': 100, '03': 54, '12': 73, '04': 47, '07': 34, '22': 71, '06': 44, '18': 109, '21': 109, '16': 108, '00': 55, '09': 45, '15': 116, '19': 110, '13': 85, '08': 48, '20': 80, '14': 107, '10': 59, '01': 60, '02': 58, '23': 68}\n"
     ]
    }
   ],
   "source": [
    "# Amount of Ask Post created per hour\n",
    "\n",
    "import datetime as dt\n",
    "\n",
    "results_list = []\n",
    "counts_by_hour = {}\n",
    "comments_by_hour = {}\n",
    "date_format = \"%m/%d/%Y %H:%M\"\n",
    "\n",
    "for row in asks_posts:\n",
    "    created_at = row[6]\n",
    "    num_comments = int(row[4])\n",
    "    results_list.append([created_at, num_comments])\n",
    "    \n",
    "#print(results_list)\n",
    "\n",
    "for row in results_list:\n",
    "    date = row[0]\n",
    "    num_comments = row[1]\n",
    "    time = dt.datetime.strptime(date, date_format).strftime(\"%H\")\n",
    "    if time in counts_by_hour:\n",
    "        comments_by_hour[time] += num_comments\n",
    "        counts_by_hour[time] += 1\n",
    "    else:\n",
    "        comments_by_hour[time] = num_comments\n",
    "        counts_by_hour[time] = 1\n",
    "print(comments_by_hour)\n",
    "print(counts_by_hour)\n"
   ]
  },
  {
   "cell_type": "code",
   "execution_count": 10,
   "metadata": {
    "collapsed": false
   },
   "outputs": [
    {
     "name": "stdout",
     "output_type": "stream",
     "text": [
      "[['11', 11.05], ['05', 10.09], ['17', 11.46], ['03', 7.8], ['12', 9.41], ['04', 7.17], ['07', 7.85], ['22', 6.75], ['06', 9.02], ['18', 13.2], ['21', 16.01], ['16', 16.8], ['00', 8.13], ['09', 5.58], ['15', 38.59], ['19', 10.8], ['13', 14.74], ['08', 10.25], ['20', 21.52], ['14', 13.23], ['10', 13.44], ['01', 11.38], ['02', 23.81], ['23', 7.99]]\n"
     ]
    }
   ],
   "source": [
    "# Average number of comments per Ask post by hour\n",
    "\n",
    "avg_by_hour = []\n",
    "\n",
    "for hour in counts_by_hour:\n",
    "    num_of_posts = counts_by_hour[hour]\n",
    "    num_of_comments = comments_by_hour[hour]\n",
    "    avg_num_comments = round((num_of_comments / num_of_posts),2)\n",
    "    avg_by_hour.append([hour, avg_num_comments])\n",
    "    \n",
    "print(avg_by_hour)"
   ]
  },
  {
   "cell_type": "code",
   "execution_count": 13,
   "metadata": {
    "collapsed": false
   },
   "outputs": [
    {
     "name": "stdout",
     "output_type": "stream",
     "text": [
      "Top 5 Hours for Ask Posts Comments\n",
      "15:00: 38.59 average comments per post.\n",
      "02:00: 23.81 average comments per post.\n",
      "20:00: 21.52 average comments per post.\n",
      "16:00: 16.80 average comments per post.\n"
     ]
    }
   ],
   "source": [
    "# Swap key,value pairs to sort by higher averages\n",
    "\n",
    "swap_avg_by_hour = []\n",
    "\n",
    "for row in avg_by_hour:\n",
    "    swap_avg_by_hour.append([row[1], row[0]])\n",
    "    \n",
    "#print(swap_avg_by_hour)\n",
    "sorted_swap = sorted(swap_avg_by_hour, reverse=True)\n",
    "print(\"Top 5 Hours for Ask Posts Comments\")\n",
    "for row in sorted_swap[:4]:\n",
    "    print(\"{hour}:00: {avg:.2f} average comments per post.\"\n",
    "         .format(hour=row[1], avg=row[0]))\n",
    "    "
   ]
  },
  {
   "cell_type": "markdown",
   "metadata": {},
   "source": [
    "3pm received the highest average of comments per post (38 comments/post)"
   ]
  }
 ],
 "metadata": {
  "kernelspec": {
   "display_name": "Python 3",
   "language": "python",
   "name": "python3"
  },
  "language_info": {
   "codemirror_mode": {
    "name": "ipython",
    "version": 3
   },
   "file_extension": ".py",
   "mimetype": "text/x-python",
   "name": "python",
   "nbconvert_exporter": "python",
   "pygments_lexer": "ipython3",
   "version": "3.4.3"
  }
 },
 "nbformat": 4,
 "nbformat_minor": 2
}
